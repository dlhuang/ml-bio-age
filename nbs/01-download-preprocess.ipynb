{
 "cells": [
  {
   "cell_type": "code",
   "execution_count": 1,
   "metadata": {},
   "outputs": [],
   "source": [
    "%load_ext autoreload\n",
    "%autoreload 2"
   ]
  },
  {
   "cell_type": "code",
   "execution_count": 2,
   "metadata": {},
   "outputs": [],
   "source": [
    "import pandas as pd\n",
    "import numpy as np"
   ]
  },
  {
   "cell_type": "code",
   "execution_count": 3,
   "metadata": {},
   "outputs": [],
   "source": [
    "from pathlib import Path"
   ]
  },
  {
   "cell_type": "code",
   "execution_count": 4,
   "metadata": {},
   "outputs": [],
   "source": [
    "from bio.files import download, get_df, join_input, input_files\n",
    "from bio.columns import input_col_map"
   ]
  },
  {
   "cell_type": "code",
   "execution_count": 5,
   "metadata": {},
   "outputs": [],
   "source": [
    "datadir = Path('../data')"
   ]
  },
  {
   "cell_type": "code",
   "execution_count": 6,
   "metadata": {
    "scrolled": true
   },
   "outputs": [
    {
     "name": "stdout",
     "output_type": "stream",
     "text": [
      "Skipping ../data/LAB25.XPT (file exists)\n",
      "Skipping ../data/DEMO.XPT (file exists)\n",
      "Skipping ../data/LAB13.XPT (file exists)\n",
      "Skipping ../data/LAB18.XPT (file exists)\n",
      "Skipping ../data/LAB06.XPT (file exists)\n",
      "Skipping ../data/LAB13AM.XPT (file exists)\n",
      "Skipping ../data/L25_B.XPT (file exists)\n",
      "Skipping ../data/L25_2_B.XPT (file exists)\n",
      "Skipping ../data/DEMO_B.XPT (file exists)\n",
      "Skipping ../data/L40_B.XPT (file exists)\n",
      "Skipping ../data/L13AM_B.XPT (file exists)\n",
      "Skipping ../data/L13_B.XPT (file exists)\n",
      "Skipping ../data/L13_2_B.XPT (file exists)\n",
      "Skipping ../data/L40_2_B.XPT (file exists)\n",
      "Skipping ../data/L06_2_B.XPT (file exists)\n",
      "Skipping ../data/L40FE_B.XPT (file exists)\n",
      "Skipping ../data/L25_C.XPT (file exists)\n",
      "Skipping ../data/DEMO_C.XPT (file exists)\n",
      "Skipping ../data/L40_C.XPT (file exists)\n",
      "Skipping ../data/L13_C.XPT (file exists)\n",
      "Skipping ../data/L06COT_C.XPT (file exists)\n",
      "Skipping ../data/L06BMT_C.XPT (file exists)\n",
      "Skipping ../data/L06TFR_C.XPT (file exists)\n",
      "Skipping ../data/L13AM_C.XPT (file exists)\n",
      "Skipping ../data/L13AM_C.XPT (file exists)\n",
      "Skipping ../data/L40FE_C.XPT (file exists)\n",
      "Skipping ../data/CBC_D.XPT (file exists)\n",
      "Skipping ../data/DEMO_D.XPT (file exists)\n",
      "Skipping ../data/HDL_D.XPT (file exists)\n",
      "Skipping ../data/TRIGLY_D.XPT (file exists)\n",
      "Skipping ../data/TCHOL_D.XPT (file exists)\n",
      "Skipping ../data/BIOPRO_D.XPT (file exists)\n",
      "Skipping ../data/HCY_D.XPT (file exists)\n",
      "Skipping ../data/FERTIN_D.XPT (file exists)\n",
      "Skipping ../data/FETIB_D.XPT (file exists)\n",
      "Skipping ../data/CBC_E.XPT (file exists)\n",
      "Skipping ../data/DEMO_E.XPT (file exists)\n",
      "Skipping ../data/BIOPRO_E.XPT (file exists)\n",
      "Skipping ../data/HDL_E.XPT (file exists)\n",
      "Skipping ../data/TRIGLY_E.XPT (file exists)\n",
      "Skipping ../data/TCHOL_E.XPT (file exists)\n",
      "Skipping ../data/FERTIN_E.XPT (file exists)\n",
      "Skipping ../data/CBC_F.XPT (file exists)\n",
      "Skipping ../data/BIOPRO_F.XPT (file exists)\n",
      "Skipping ../data/DEMO_F.XPT (file exists)\n",
      "Skipping ../data/HDL_F.XPT (file exists)\n",
      "Skipping ../data/TRIGLY_F.XPT (file exists)\n",
      "Skipping ../data/TCHOL_F.XPT (file exists)\n",
      "Skipping ../data/FERTIN_F.XPT (file exists)\n",
      "Skipping ../data/CBC_G.XPT (file exists)\n",
      "Skipping ../data/DEMO_G.XPT (file exists)\n",
      "Skipping ../data/HDL_G.XPT (file exists)\n",
      "Skipping ../data/TRIGLY_G.XPT (file exists)\n",
      "Skipping ../data/TCHOL_G.XPT (file exists)\n",
      "Skipping ../data/BIOPRO_G.XPT (file exists)\n",
      "Skipping ../data/CBC_H.XPT (file exists)\n",
      "Skipping ../data/DEMO_H.XPT (file exists)\n",
      "Skipping ../data/HDL_H.XPT (file exists)\n",
      "Skipping ../data/TRIGLY_H.XPT (file exists)\n",
      "Skipping ../data/TCHOL_H.XPT (file exists)\n",
      "Skipping ../data/BIOPRO_H.XPT (file exists)\n",
      "Downloading https://wwwn.cdc.gov/Nchs/Nhanes/2015-2016/CBC_I.XPT to ../data/CBC_I.XPT\n",
      "Downloading https://wwwn.cdc.gov/Nchs/Nhanes/2015-2016/DEMO_I.XPT to ../data/DEMO_I.XPT\n",
      "Downloading https://wwwn.cdc.gov/Nchs/Nhanes/2015-2016/HDL_I.XPT to ../data/HDL_I.XPT\n",
      "Downloading https://wwwn.cdc.gov/Nchs/Nhanes/2015-2016/TCHOL_I.XPT to ../data/TCHOL_I.XPT\n",
      "Downloading https://wwwn.cdc.gov/Nchs/Nhanes/2015-2016/BIOPRO_I.XPT to ../data/BIOPRO_I.XPT\n",
      "Done\n"
     ]
    }
   ],
   "source": [
    "download(datadir)"
   ]
  },
  {
   "cell_type": "code",
   "execution_count": null,
   "metadata": {},
   "outputs": [],
   "source": [
    "included_markers = input_col_map.values()\n",
    "for year in sorted(input_files.keys(), reverse=True):\n",
    "    df = join_input(datadir, year)\n",
    "    print(f'Checking for missing columns in {year}... ', end='')\n",
    "    diff = df.columns.symmetric_difference(included_markers).drop('YEAR')\n",
    "    if len(diff) == 0:\n",
    "        print('OK')\n",
    "        continue\n",
    "    print('\\nMissing columns: {}'.format(', '.join([f'\"{d}\"' for d in diff])))\n",
    "print('Done')"
   ]
  },
  {
   "cell_type": "code",
   "execution_count": null,
   "metadata": {},
   "outputs": [],
   "source": []
  }
 ],
 "metadata": {
  "kernelspec": {
   "display_name": "Python 3",
   "language": "python",
   "name": "python3"
  },
  "language_info": {
   "codemirror_mode": {
    "name": "ipython",
    "version": 3
   },
   "file_extension": ".py",
   "mimetype": "text/x-python",
   "name": "python",
   "nbconvert_exporter": "python",
   "pygments_lexer": "ipython3",
   "version": "3.6.7"
  }
 },
 "nbformat": 4,
 "nbformat_minor": 2
}
